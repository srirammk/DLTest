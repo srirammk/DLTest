{
  "nbformat": 4,
  "nbformat_minor": 0,
  "metadata": {
    "colab": {
      "provenance": [],
      "authorship_tag": "ABX9TyOWvMZTGYoCMQJlFSLtFx6e",
      "include_colab_link": true
    },
    "kernelspec": {
      "name": "python3",
      "display_name": "Python 3"
    },
    "language_info": {
      "name": "python"
    }
  },
  "cells": [
    {
      "cell_type": "markdown",
      "metadata": {
        "id": "view-in-github",
        "colab_type": "text"
      },
      "source": [
        "<a href=\"https://colab.research.google.com/github/srirammk/DLTest/blob/main/ImageConverter.ipynb\" target=\"_parent\"><img src=\"https://colab.research.google.com/assets/colab-badge.svg\" alt=\"Open In Colab\"/></a>"
      ]
    },
    {
      "cell_type": "markdown",
      "source": [],
      "metadata": {
        "id": "xigl98J0Y-35"
      }
    },
    {
      "cell_type": "code",
      "execution_count": 3,
      "metadata": {
        "id": "4yTQLfSNYqRZ"
      },
      "outputs": [],
      "source": [
        "#lightweight model to convert 2d image to 3D image\n",
        "import torch\n",
        "import cv2\n",
        "import numpy as np\n",
        "from torchvision.transforms import Compose, ToTensor, Normalize\n"
      ]
    },
    {
      "cell_type": "code",
      "source": [
        "class Circuit2DTo3D:\n",
        "    def __init__(self):\n",
        "        self.model_type = \"midas_v21_small\"\n",
        "        self.midas = torch.hub.load(\"intel-isl/Midas\", self.model_type)\n",
        "        self.device = torch.device(\"cuda\") if torch.cuda.is_available() else torch.device(\"cpu\")\n",
        "        self.midas.to(self.device)\n",
        "        self.midas.eval()\n",
        "\n",
        "        self.transform = Compose([\n",
        "            ToTensor(),\n",
        "            Normalize(mean=[0.485, 0.456, 0.406], std=[0.229, 0.224, 0.225])\n",
        "        ])\n",
        "\n",
        "    def predict_depth(self, img):\n",
        "        img_input = self.transform(img)\n",
        "        img_input = img_input.unsqueeze(0).to(self.device)\n",
        "        prediction = self.midas(img_input)\n",
        "        return torch.nn.functional.interpolate(\n",
        "            prediction.unsqueeze(1),\n",
        "            size=img.shape[:2],\n",
        "            mode=\"bicubic\",\n",
        "            align_corners=False\n",
        "        ).squeeze().cpu().numpy()\n",
        "\n",
        "    def visualize_depth(self, depth_map):\n",
        "        x_ = np.nan_to_num(depth_map) # Change nan to 0\n",
        "        mi = np.min(x_) # Get minimum depth\n",
        "        ma = np.max(x_) # Get maximum depth\n",
        "        x_ = (x_-mi)/(ma-mi+1e-8) # Normalize to 0-1\n",
        "        x_ = (255*x_).astype(np.uint8)\n",
        "        return cv2.applyColorMap(x_, cv2.COLORMAP_JET)"
      ],
      "metadata": {
        "id": "_F-0TJ2-cT-f"
      },
      "execution_count": 5,
      "outputs": []
    }
  ]
}